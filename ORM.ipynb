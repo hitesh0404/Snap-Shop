{
 "cells": [
  {
   "cell_type": "code",
   "execution_count": null,
   "metadata": {},
   "outputs": [],
   "source": [
    "from product.models import Product\n",
    "import random as r\n",
    "id=4\n",
    "from django.template.defaultfilters import slugify\n",
    "for i in range(30):\n",
    "    id = id + 1\n",
    "    name = 'product-name '+ str(r.random())[2:7]\n",
    "    slug = slugify(name)\n",
    "    price = r.randint(100,1000)\n",
    "    desc = slug + slug\n",
    "    image = \"product/online-shopping-background-website-mobile-app_269039-166.jpg\"\n",
    "    brand = r.randint(1,2)\n",
    "    quantity = r.randint(2,10)\n",
    "    p=Product(id,name,slug,price,desc,image,brand,quantity);\n",
    "    p.save()\n",
    "\n",
    "products = Product.objects.all()\n",
    "for p in products:\n",
    "    p.image = \"product/online-shopping-background-website-mobile-app_269039-166.jpg\"\n",
    "    p.save()\n"
   ]
  }
 ],
 "metadata": {
  "kernelspec": {
   "display_name": "Python 3",
   "language": "python",
   "name": "python3"
  },
  "language_info": {
   "name": "python",
   "version": "3.12.3"
  }
 },
 "nbformat": 4,
 "nbformat_minor": 2
}
